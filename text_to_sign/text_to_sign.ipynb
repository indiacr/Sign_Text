{
  "nbformat": 4,
  "nbformat_minor": 0,
  "metadata": {
    "colab": {
      "provenance": []
    },
    "kernelspec": {
      "name": "python3",
      "display_name": "Python 3"
    },
    "language_info": {
      "name": "python"
    }
  },
  "cells": [
    {
      "cell_type": "code",
      "source": [
        "import pandas as pd"
      ],
      "metadata": {
        "id": "NlVsfL3u_mKf"
      },
      "execution_count": null,
      "outputs": []
    },
    {
      "cell_type": "code",
      "source": [
        "import nltk\n",
        "from nltk.stem import WordNetLemmatizer\n",
        "nltk.download('punkt')\n",
        "nltk.download('wordnet')\n",
        "#give the input text to the variable gloss_text\n",
        "gloss_text = \"all feel started\"\n",
        "tokens = nltk.word_tokenize(gloss_text)\n",
        "lemmatizer = WordNetLemmatizer()\n",
        "gloss_vals = []\n",
        "# Iterate over each token\n",
        "for token in tokens:\n",
        "  lemma = lemmatizer.lemmatize(token, pos='v')\n",
        "  gloss_vals.append(lemma)\n",
        "\n",
        "gloss_text = \" \".join(gloss_vals)\n",
        "print(gloss_text)"
      ],
      "metadata": {
        "collapsed": true,
        "id": "ZX58ZzJLTmCo"
      },
      "execution_count": null,
      "outputs": []
    },
    {
      "cell_type": "code",
      "source": [
        "videos = pd.read_csv(\"/content/video-metadata.csv\")"
      ],
      "metadata": {
        "id": "46nghfmFUU_H"
      },
      "execution_count": 107,
      "outputs": []
    },
    {
      "cell_type": "code",
      "source": [
        "def get_pose_ids(gloss):\n",
        "    gloss_list = gloss.split(\" \")\n",
        "    pose_ids = list()\n",
        "    videos[\"Gloss Variant\"] = videos[\"Gloss Variant\"].apply(lambda x: x.strip(\"+#_()123456789\"))\n",
        "    for term in gloss_list:\n",
        "        ids = videos[videos[\"Gloss Variant\"] == term][\"id\"].values\n",
        "        if len(ids) > 0:\n",
        "            pose_ids.append(ids[0])\n",
        "    return pose_ids"
      ],
      "metadata": {
        "id": "rX8UIGk4ujsR"
      },
      "execution_count": 112,
      "outputs": []
    },
    {
      "cell_type": "code",
      "source": [
        "def get_pose_files(lookup_directory, pose_ids):\n",
        "    pose_filepaths = []\n",
        "    for pose_id in pose_ids:\n",
        "        pose_filename = \"pose-{}.mov\".format(pose_id)\n",
        "        pose_filepath = os.path.join(lookup_directory, pose_filename)\n",
        "        pose_filepaths.append(pose_filepath)\n",
        "    return pose_filepaths"
      ],
      "metadata": {
        "id": "tGQxQcPlrQ6c"
      },
      "execution_count": 109,
      "outputs": []
    },
    {
      "cell_type": "code",
      "source": [
        "pose_ids = get_pose_ids(gloss_text.upper())\n",
        "gloss_available = []\n",
        "for i in pose_ids:\n",
        "  gloss_check = videos[videos[\"id\"] == i][\"Gloss Variant\"]\n",
        "  gloss_available.append(gloss_check)\n",
        "\n",
        "gloss_available"
      ],
      "metadata": {
        "collapsed": true,
        "id": "Re_eKiW_T-zR"
      },
      "execution_count": null,
      "outputs": []
    },
    {
      "cell_type": "code",
      "source": [
        "#upload the dataset to google drive and mount it\n",
        "from google.colab import drive\n",
        "drive.mount('/content/drive')"
      ],
      "metadata": {
        "id": "fQM_fD8M1J2X"
      },
      "execution_count": null,
      "outputs": []
    },
    {
      "cell_type": "code",
      "source": [
        "#untar the file\n",
        "!tar -xvf \"/content/drive/MyDrive/gloss2pose-lookup.tar.gz\" -C \"/content/\""
      ],
      "metadata": {
        "id": "80S_M0Zh2bjb"
      },
      "execution_count": null,
      "outputs": []
    },
    {
      "cell_type": "code",
      "source": [
        "import os"
      ],
      "metadata": {
        "id": "E6k82VYV3BL7"
      },
      "execution_count": 118,
      "outputs": []
    },
    {
      "cell_type": "code",
      "source": [
        "video_filenames = get_pose_files('/content/lookup/', pose_ids)"
      ],
      "metadata": {
        "id": "OIADsaXBVdjU"
      },
      "execution_count": 119,
      "outputs": []
    },
    {
      "cell_type": "code",
      "source": [
        "# creating a .mp4 file from .mov\n",
        "import os.path\n",
        "from os import path\n",
        "video_filenames_mp4 = []\n",
        "for every_video in video_filenames:\n",
        "  input_video = every_video\n",
        "  output_video = '/content/lookup_gloss_videolist/lookup_mp4/'+input_video.split('/')[3].split('.')[0]+'.mp4'\n",
        "  video_filenames_mp4.append('/content/lookup_gloss_videolist/lookup_mp4/'+input_video.split('/')[3].split('.')[0]+'.mp4')\n",
        "  if path.exists(output_video) == False:\n",
        "    print(\"convertion to mp4 is required for: \",input_video)\n",
        "    !ffmpeg -i $input_video -b:v 1M -vcodec libx264 -preset slow -profile:v baseline -level 3.0 -pix_fmt yuv420p -movflags +faststart $output_video\n",
        ""
      ],
      "metadata": {
        "collapsed": true,
        "id": "cSqZ3prNVqxA"
      },
      "execution_count": null,
      "outputs": []
    },
    {
      "cell_type": "code",
      "source": [
        "# Creating the content to merge the required video files\n",
        "updated_gloss = gloss_text.upper().replace(\" \",\"_\")\n",
        "gloss_videolist = \"/content/lookup_gloss_videolist/\"+updated_gloss+\".txt\"\n",
        "gloss_videolist_to_write = \"file '/content/lookup_gloss_videolist/\"+updated_gloss+\".txt'\"\n",
        "if path.exists(gloss_videolist) == False:\n",
        "   with open(gloss_videolist, \"w\") as f:\n",
        "      # Write each value in the list as a new line in the file\n",
        "      for item in video_filenames_mp4:\n",
        "        f.write(\"file \" + item + \"\\n\")\n"
      ],
      "metadata": {
        "id": "GS7d648ksysW"
      },
      "execution_count": 127,
      "outputs": []
    },
    {
      "cell_type": "code",
      "source": [
        "with open(gloss_videolist, \"r\") as f:\n",
        "    file_content = f.read()\n",
        "    print(file_content)"
      ],
      "metadata": {
        "id": "tRS0AXpNtKUQ"
      },
      "execution_count": null,
      "outputs": []
    },
    {
      "cell_type": "code",
      "source": [
        "print(updated_gloss)"
      ],
      "metadata": {
        "colab": {
          "base_uri": "https://localhost:8080/"
        },
        "id": "qjjkJoaYDZ2U",
        "outputId": "62fc3b04-0d5c-4529-d70b-b66aba5004d9"
      },
      "execution_count": 124,
      "outputs": [
        {
          "output_type": "stream",
          "name": "stdout",
          "text": [
            "ALL_FEEL_START\n"
          ]
        }
      ]
    },
    {
      "cell_type": "code",
      "source": [
        "#Merging all the relavant videos\n",
        "!ffmpeg -safe 0 -f concat -i \"/content/lookup_gloss_videolist/ALL_FEEL_START.txt\" -c copy \"/content/lookup_gloss_videolist/ALL_FEEL_START.mp4\""
      ],
      "metadata": {
        "collapsed": true,
        "id": "hXX2Em09Co_D"
      },
      "execution_count": null,
      "outputs": []
    }
  ]
}
