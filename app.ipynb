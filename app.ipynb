{
 "cells": [
  {
   "cell_type": "code",
   "execution_count": 1,
   "id": "2beffe9e",
   "metadata": {},
   "outputs": [
    {
     "name": "stdout",
     "output_type": "stream",
     "text": [
      "Requirement already satisfied: scikit-learn==1.2.0 in c:\\users\\rajak\\anaconda3\\lib\\site-packages (1.2.0)\n",
      "Requirement already satisfied: numpy>=1.17.3 in c:\\users\\rajak\\anaconda3\\lib\\site-packages (from scikit-learn==1.2.0) (1.24.3)\n",
      "Requirement already satisfied: scipy>=1.3.2 in c:\\users\\rajak\\anaconda3\\lib\\site-packages (from scikit-learn==1.2.0) (1.11.1)\n",
      "Requirement already satisfied: joblib>=1.1.1 in c:\\users\\rajak\\anaconda3\\lib\\site-packages (from scikit-learn==1.2.0) (1.2.0)\n",
      "Requirement already satisfied: threadpoolctl>=2.0.0 in c:\\users\\rajak\\anaconda3\\lib\\site-packages (from scikit-learn==1.2.0) (2.2.0)\n",
      "Note: you may need to restart the kernel to use updated packages.\n"
     ]
    }
   ],
   "source": [
    "pip install scikit-learn==1.2.0"
   ]
  },
  {
   "cell_type": "markdown",
   "id": "e0f90f52",
   "metadata": {},
   "source": [
    "## import packages"
   ]
  },
  {
   "cell_type": "code",
   "execution_count": 7,
   "id": "0fbd243d",
   "metadata": {},
   "outputs": [],
   "source": [
    "import pickle\n",
    "import cv2\n",
    "import mediapipe as mp\n",
    "import numpy as np\n",
    "import matplotlib.pyplot as plt\n",
    "import gradio as gr"
   ]
  },
  {
   "cell_type": "markdown",
   "id": "03893f4c",
   "metadata": {},
   "source": [
    "## function to predict the hand gesture"
   ]
  },
  {
   "cell_type": "code",
   "execution_count": 8,
   "id": "0b9b25f2",
   "metadata": {},
   "outputs": [],
   "source": [
    "def predict(input):\n",
    "    model_dict = pickle.load(open('./model.p', 'rb'))\n",
    "    model = model_dict['model']\n",
    "    mp_hands = mp.solutions.hands\n",
    "    mp_drawing = mp.solutions.drawing_utils\n",
    "    mp_drawing_styles = mp.solutions.drawing_styles\n",
    "\n",
    "    hands = mp_hands.Hands(static_image_mode=True, min_detection_confidence=0.3)\n",
    "    labels_dict = {0: 'L', 1: 'A', 2: 'B', 3: 'c', 4: 'Hello'}\n",
    "\n",
    "#while True:\n",
    "    data_aux = []\n",
    "    frame = input\n",
    "    #frame = cv2.imread(input)\n",
    "    frame_rgb = cv2.cvtColor(frame, cv2.COLOR_BGR2RGB)\n",
    "    plt.imshow(frame_rgb)\n",
    "    results = hands.process(frame_rgb)\n",
    "    if results.multi_hand_landmarks:\n",
    "        for hand_landmarks in results.multi_hand_landmarks:\n",
    "            mp_drawing.draw_landmarks(\n",
    "            frame,\n",
    "            hand_landmarks,\n",
    "            mp_hands.HAND_CONNECTIONS,\n",
    "            mp_drawing_styles.get_default_hand_landmarks_style(),\n",
    "            mp_drawing_styles.get_default_hand_connections_style())\n",
    "        \n",
    "\n",
    "        for i in range(len(hand_landmarks.landmark)):\n",
    "            x = hand_landmarks.landmark[i].x\n",
    "            y = hand_landmarks.landmark[i].y\n",
    "            data_aux.append(x)\n",
    "            data_aux.append(y)\n",
    "    \n",
    "    if data_aux:\n",
    "        prediction = model.predict([np.asarray(data_aux)])\n",
    "        predicted_character = labels_dict[int(prediction[0])]\n",
    "        return frame, predicted_character\n",
    "        # Process the prediction as needed\n",
    "    else:\n",
    "        return frame, \"No hand landmarks detected in the current frame.\"\n",
    "         "
   ]
  },
  {
   "cell_type": "markdown",
   "id": "75856e5f",
   "metadata": {},
   "source": [
    "## UI for image input"
   ]
  },
  {
   "cell_type": "code",
   "execution_count": 11,
   "id": "06bf42bc",
   "metadata": {},
   "outputs": [
    {
     "name": "stdout",
     "output_type": "stream",
     "text": [
      "Running on local URL:  http://127.0.0.1:7860\n",
      "\n",
      "To create a public link, set `share=True` in `launch()`.\n"
     ]
    },
    {
     "data": {
      "text/html": [
       "<div><iframe src=\"http://127.0.0.1:7860/\" width=\"100%\" height=\"500\" allow=\"autoplay; camera; microphone; clipboard-read; clipboard-write;\" frameborder=\"0\" allowfullscreen></iframe></div>"
      ],
      "text/plain": [
       "<IPython.core.display.HTML object>"
      ]
     },
     "metadata": {},
     "output_type": "display_data"
    },
    {
     "data": {
      "text/plain": []
     },
     "execution_count": 11,
     "metadata": {},
     "output_type": "execute_result"
    }
   ],
   "source": [
    "demo = gr.Interface(fn=predict,\n",
    "             inputs=gr.Image(label=\"camera input\", show_label=True, sources = \"webcam\", type = \"filepath\"), \n",
    "             outputs = [\"image\", \"text\"], title = \" Sign translation App\")\n",
    "demo.launch()"
   ]
  },
  {
   "cell_type": "markdown",
   "id": "0bf80ab1",
   "metadata": {},
   "source": [
    "## function to predict hand gesture in each frame of the video"
   ]
  },
  {
   "cell_type": "code",
   "execution_count": 9,
   "id": "40d2f949",
   "metadata": {},
   "outputs": [],
   "source": [
    "def vid_inf(vid):\n",
    "    cap = cv2.VideoCapture(vid)  # Start capturing video from the file\n",
    "    while cap.isOpened():\n",
    "        ret, frame = cap.read()\n",
    "        if ret:\n",
    "            frame, character  = predict(frame)  # predict the hand gesture in the frame\n",
    "            yield cv2.cvtColor(frame, cv2.COLOR_BGR2RGB), character, None  # Yield the processed frame\n",
    "        else:\n",
    "            break\n",
    "            \n",
    "    cap.release()  # Release the video capture object\n",
    "    cv2.destroyAllWindows()  # Close all OpenCV windows"
   ]
  },
  {
   "cell_type": "code",
   "execution_count": 45,
   "id": "e9f72f69",
   "metadata": {},
   "outputs": [
    {
     "name": "stdout",
     "output_type": "stream",
     "text": [
      "Collecting ffmpeg-python\n",
      "  Obtaining dependency information for ffmpeg-python from https://files.pythonhosted.org/packages/d7/0c/56be52741f75bad4dc6555991fabd2e07b432d333da82c11ad701123888a/ffmpeg_python-0.2.0-py3-none-any.whl.metadata\n",
      "  Downloading ffmpeg_python-0.2.0-py3-none-any.whl.metadata (1.7 kB)\n",
      "Requirement already satisfied: future in c:\\users\\rajak\\anaconda3\\lib\\site-packages (from ffmpeg-python) (0.18.3)\n",
      "Downloading ffmpeg_python-0.2.0-py3-none-any.whl (25 kB)\n",
      "Installing collected packages: ffmpeg-python\n",
      "Successfully installed ffmpeg-python-0.2.0\n",
      "Note: you may need to restart the kernel to use updated packages.\n"
     ]
    }
   ],
   "source": [
    "pip install ffmpeg-python"
   ]
  },
  {
   "cell_type": "code",
   "execution_count": 5,
   "id": "709fc1cb",
   "metadata": {},
   "outputs": [],
   "source": [
    "import ffmpeg"
   ]
  },
  {
   "cell_type": "code",
   "execution_count": 14,
   "id": "972abd15",
   "metadata": {},
   "outputs": [],
   "source": [
    "## UI for video input"
   ]
  },
  {
   "cell_type": "code",
   "execution_count": 17,
   "id": "7875e813",
   "metadata": {},
   "outputs": [
    {
     "name": "stdout",
     "output_type": "stream",
     "text": [
      "Running on local URL:  http://127.0.0.1:7864\n",
      "\n",
      "To create a public link, set `share=True` in `launch()`.\n"
     ]
    },
    {
     "data": {
      "text/html": [
       "<div><iframe src=\"http://127.0.0.1:7864/\" width=\"100%\" height=\"500\" allow=\"autoplay; camera; microphone; clipboard-read; clipboard-write;\" frameborder=\"0\" allowfullscreen></iframe></div>"
      ],
      "text/plain": [
       "<IPython.core.display.HTML object>"
      ]
     },
     "metadata": {},
     "output_type": "display_data"
    },
    {
     "data": {
      "text/plain": []
     },
     "execution_count": 17,
     "metadata": {},
     "output_type": "execute_result"
    }
   ],
   "source": [
    "input_video = gr.Video(sources = [\"webcam\"], label=\"Input Video\")\n",
    "output_frame = gr.Image(label=\"Output Frames\")\n",
    "output_character = gr.Textbox(label = \"sign\")\n",
    "# Create Gradio Interface for Video Inference\n",
    "interface_video = gr.Interface(\n",
    "    fn=vid_inf,\n",
    "    inputs=[input_video],\n",
    "    outputs=[output_frame, output_character],\n",
    "    title=\"Video Inference\")\n",
    "interface_video.launch()"
   ]
  },
  {
   "cell_type": "code",
   "execution_count": null,
   "id": "62c27d09",
   "metadata": {},
   "outputs": [],
   "source": []
  }
 ],
 "metadata": {
  "kernelspec": {
   "display_name": "Python 3 (ipykernel)",
   "language": "python",
   "name": "python3"
  },
  "language_info": {
   "codemirror_mode": {
    "name": "ipython",
    "version": 3
   },
   "file_extension": ".py",
   "mimetype": "text/x-python",
   "name": "python",
   "nbconvert_exporter": "python",
   "pygments_lexer": "ipython3",
   "version": "3.11.5"
  }
 },
 "nbformat": 4,
 "nbformat_minor": 5
}
